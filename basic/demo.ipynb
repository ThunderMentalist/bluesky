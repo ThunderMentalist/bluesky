{
 "cells": [
  {
   "cell_type": "markdown",
   "metadata": {},
   "source": [
    "# Basic Decision Tree Demo\n",
    "\n",
    "This notebook mirrors the behaviour of `basic/demo.py` while keeping the code interactive.\n",
    "It reuses the same helper modules from the repository to load data, run the pipeline, and\n",
    "summarise model performance.\n"
   ]
  },
  {
   "cell_type": "code",
   "execution_count": null,
   "metadata": {},
   "outputs": [],
   "source": [
    "from pathlib import Path\n",
    "import importlib\n",
    "import sys\n",
    "\n",
    "NOTEBOOK_DIR = Path.cwd()\n",
    "PARENT_DIR = NOTEBOOK_DIR.parent\n",
    "if str(PARENT_DIR) not in sys.path:\n",
    "    sys.path.insert(0, str(PARENT_DIR))\n",
    "\n",
    "PACKAGE_CANDIDATES = []\n",
    "for name in (NOTEBOOK_DIR.name, 'basic', 'based'):\n",
    "    if name and name not in PACKAGE_CANDIDATES:\n",
    "        PACKAGE_CANDIDATES.append(name)\n",
    "\n",
    "PACKAGE_NAME = None\n",
    "for candidate in PACKAGE_CANDIDATES:\n",
    "    try:\n",
    "        importlib.import_module(candidate)\n",
    "    except ModuleNotFoundError:\n",
    "        continue\n",
    "    else:\n",
    "        PACKAGE_NAME = candidate\n",
    "        break\n",
    "\n",
    "if PACKAGE_NAME is None:\n",
    "    available = ', '.join(PACKAGE_CANDIDATES)\n",
    "    raise ModuleNotFoundError(\n",
    "        'Unable to locate the project package. Ensure the notebook is executed '\n",
    "        'from inside the project directory. Tried package names: ' + (available or 'none')\n",
    "    )\n",
    "\n",
    "data_module = importlib.import_module(f\"{PACKAGE_NAME}.data\")\n",
    "evaluation_module = importlib.import_module(f\"{PACKAGE_NAME}.evaluation\")\n",
    "pipeline_module = importlib.import_module(f\"{PACKAGE_NAME}.pipeline\")\n",
    "\n",
    "load_iris_data = data_module.load_iris_data\n",
    "evaluate_model = evaluation_module.evaluate_model\n",
    "plot_accuracy_progression = evaluation_module.plot_accuracy_progression\n",
    "create_dataset_splits = pipeline_module.create_dataset_splits\n",
    "perform_hyperparameter_search = pipeline_module.perform_hyperparameter_search\n",
    "train_final_model = pipeline_module.train_final_model\n",
    "\n",
    "OUTPUT_DIR = NOTEBOOK_DIR / 'outputs'\n",
    "OUTPUT_DIR.mkdir(parents=True, exist_ok=True)\n"
   ]
  },
  {
   "cell_type": "code",
   "execution_count": null,
   "metadata": {},
   "outputs": [],
   "source": [
    "def run_demo() -> None:\n",
    "    \"\"\"Execute the training pipeline and report metrics.\"\"\"\n",
    "\n",
    "    features, target, _ = load_iris_data()\n",
    "    splits = create_dataset_splits(features, target)\n",
    "\n",
    "    estimator, best_params = perform_hyperparameter_search(splits)\n",
    "    print(\"Best hyper-parameters:\")\n",
    "    for key, value in best_params.items():\n",
    "        print(f\"  {key}: {value}\")\n",
    "\n",
    "    tuned_metrics = evaluate_model(estimator, splits)\n",
    "    print(\"\\nAccuracy after hyper-parameter tuning:\")\n",
    "    for split_name, data in tuned_metrics.items():\n",
    "        print(f\"  {split_name.capitalize()}: {data['accuracy']:.3f}\")\n",
    "\n",
    "    print(\"\\nValidation classification report:\")\n",
    "    print(tuned_metrics[\"validation\"][\"classification_report\"])\n",
    "\n",
    "    final_estimator = train_final_model(estimator, splits)\n",
    "    final_metrics = evaluate_model(final_estimator, splits)\n",
    "\n",
    "    print(\"\\nFinal model accuracy (retrained on train + validation):\")\n",
    "    for split_name, data in final_metrics.items():\n",
    "        print(f\"  {split_name.capitalize()}: {data['accuracy']:.3f}\")\n",
    "\n",
    "    chart_path = plot_accuracy_progression(\n",
    "        tuned_metrics, OUTPUT_DIR / \"accuracy_progression.png\"\n",
    "    )\n",
    "    print(f\"\\nAccuracy chart saved to: {chart_path}\")\n"
   ]
  },
  {
   "cell_type": "code",
   "execution_count": null,
   "metadata": {},
   "outputs": [],
   "source": [
    "run_demo()\n"
   ]
  }
 ],
 "metadata": {
  "kernelspec": {
   "display_name": "Python 3",
   "language": "python",
   "name": "python3"
  },
  "language_info": {
   "name": "python",
   "pygments_lexer": "ipython3"
  }
 },
 "nbformat": 4,
 "nbformat_minor": 5
}